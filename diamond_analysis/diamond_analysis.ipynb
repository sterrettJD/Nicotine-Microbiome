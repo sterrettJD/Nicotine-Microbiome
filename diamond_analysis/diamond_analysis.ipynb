{
 "cells": [
  {
   "cell_type": "code",
   "execution_count": 1,
   "id": "e6274763",
   "metadata": {},
   "outputs": [],
   "source": [
    "import pandas as pd\n",
    "import numpy as np\n",
    "\n",
    "import matplotlib.pyplot as plt\n",
    "import seaborn as sns\n",
    "\n",
    "from scipy import stats\n",
    "import scikit_posthocs as sp\n",
    "\n",
    "%matplotlib inline"
   ]
  },
  {
   "cell_type": "markdown",
   "id": "9f814452",
   "metadata": {},
   "source": [
    "# Process diamond output"
   ]
  },
  {
   "cell_type": "code",
   "execution_count": 2,
   "id": "0db098ea",
   "metadata": {},
   "outputs": [],
   "source": [
    "df = pd.read_csv(\"../gene_hits.tsv\", header=0, index_col=None, sep=\"\\t\")\n",
    "\n",
    "# drop the extra header cols\n",
    "df = df[df[\"Query accession\"]!=\"Query accession\"]\n",
    "\n",
    "# Create a sample id and read number columns from query accession \n",
    "df[\"Sample ID\"] = df[\"Query accession\"].apply(lambda x: x.split(\".\")[0])\n",
    "df[\"Read number\"] = df[\"Query accession\"].apply(lambda x: x.split(\".\")[1])\n"
   ]
  },
  {
   "cell_type": "markdown",
   "id": "df21d498",
   "metadata": {},
   "source": [
    "## Remove where missing gene names"
   ]
  },
  {
   "cell_type": "code",
   "execution_count": 3,
   "id": "a3cad9e2",
   "metadata": {},
   "outputs": [
    {
     "name": "stdout",
     "output_type": "stream",
     "text": [
      "42 percent of hits matched a gene name on uniprot\n"
     ]
    }
   ],
   "source": [
    "percent_with_names = sum(df[\"Gene name\"].isna()==False)/df.shape[0]\n",
    "\n",
    "print(round(percent_with_names*100), \"percent of hits matched a gene name on uniprot\")\n",
    "\n",
    "# Only keep where we have a gene name\n",
    "df = df[df[\"Gene name\"].isna()==False]"
   ]
  },
  {
   "cell_type": "markdown",
   "id": "028b68a6",
   "metadata": {},
   "source": [
    "## Get metacyc gene names"
   ]
  },
  {
   "cell_type": "code",
   "execution_count": 4,
   "id": "c63c6cd6",
   "metadata": {},
   "outputs": [],
   "source": [
    "pathway_1 = pd.read_csv(\"../database-building/metacyc-nic-deg-1.txt\", \n",
    "                        header=1, sep=\"\\t\")\n",
    "pathway_2 = pd.read_csv(\"../database-building/metacyc-nic-deg-2.txt\", \n",
    "                        header=1, sep=\"\\t\")\n",
    "pathway_3 = pd.read_csv(\"../database-building/metacyc-nic-deg-3.txt\", \n",
    "                        header=1, sep=\"\\t\")\n",
    "\n",
    "metacyc_gene_names = set(pathway_1[\"Gene name\"]) | set(pathway_2[\"Gene name\"]) | set(pathway_3[\"Gene name\"])"
   ]
  },
  {
   "cell_type": "markdown",
   "id": "a7875958",
   "metadata": {},
   "source": [
    "## Remove where gene names not in metacyc pathways"
   ]
  },
  {
   "cell_type": "code",
   "execution_count": 5,
   "id": "3ab91a71",
   "metadata": {},
   "outputs": [],
   "source": [
    "df = df[df[\"Gene name\"].apply(lambda x: x in metacyc_gene_names)]"
   ]
  },
  {
   "cell_type": "code",
   "execution_count": 6,
   "id": "407df790",
   "metadata": {},
   "outputs": [
    {
     "data": {
      "text/html": [
       "<div>\n",
       "<style scoped>\n",
       "    .dataframe tbody tr th:only-of-type {\n",
       "        vertical-align: middle;\n",
       "    }\n",
       "\n",
       "    .dataframe tbody tr th {\n",
       "        vertical-align: top;\n",
       "    }\n",
       "\n",
       "    .dataframe thead th {\n",
       "        text-align: right;\n",
       "    }\n",
       "</style>\n",
       "<table border=\"1\" class=\"dataframe\">\n",
       "  <thead>\n",
       "    <tr style=\"text-align: right;\">\n",
       "      <th></th>\n",
       "      <th>Unnamed: 0</th>\n",
       "      <th>Query accession</th>\n",
       "      <th>Target accession</th>\n",
       "      <th>Sequence identity</th>\n",
       "      <th>Length</th>\n",
       "      <th>Mismatches</th>\n",
       "      <th>Gap openings</th>\n",
       "      <th>Query start</th>\n",
       "      <th>Query end</th>\n",
       "      <th>Target start</th>\n",
       "      <th>Target end</th>\n",
       "      <th>E-value</th>\n",
       "      <th>Bit score</th>\n",
       "      <th>Gene name</th>\n",
       "      <th>Sample ID</th>\n",
       "      <th>Read number</th>\n",
       "    </tr>\n",
       "  </thead>\n",
       "  <tbody>\n",
       "    <tr>\n",
       "      <th>1</th>\n",
       "      <td>1.0</td>\n",
       "      <td>SRR9641933.28440</td>\n",
       "      <td>tr|A0A3E2YTU4|A0A3E2YTU4_9ACTN</td>\n",
       "      <td>68.7</td>\n",
       "      <td>67</td>\n",
       "      <td>21</td>\n",
       "      <td>0</td>\n",
       "      <td>2</td>\n",
       "      <td>202</td>\n",
       "      <td>96</td>\n",
       "      <td>162</td>\n",
       "      <td>3.3e-20</td>\n",
       "      <td>92.8</td>\n",
       "      <td>nicF</td>\n",
       "      <td>SRR9641933</td>\n",
       "      <td>28440</td>\n",
       "    </tr>\n",
       "    <tr>\n",
       "      <th>5</th>\n",
       "      <td>5.0</td>\n",
       "      <td>SRR9641933.28440</td>\n",
       "      <td>tr|A0A0F0L0P7|A0A0F0L0P7_9MICO</td>\n",
       "      <td>50.0</td>\n",
       "      <td>64</td>\n",
       "      <td>32</td>\n",
       "      <td>0</td>\n",
       "      <td>8</td>\n",
       "      <td>199</td>\n",
       "      <td>118</td>\n",
       "      <td>181</td>\n",
       "      <td>4.7e-11</td>\n",
       "      <td>62.4</td>\n",
       "      <td>nicF</td>\n",
       "      <td>SRR9641933</td>\n",
       "      <td>28440</td>\n",
       "    </tr>\n",
       "    <tr>\n",
       "      <th>6</th>\n",
       "      <td>6.0</td>\n",
       "      <td>SRR9641933.28440</td>\n",
       "      <td>tr|A0A5P9IRS1|A0A5P9IRS1_9GAMM</td>\n",
       "      <td>56.9</td>\n",
       "      <td>58</td>\n",
       "      <td>20</td>\n",
       "      <td>1</td>\n",
       "      <td>26</td>\n",
       "      <td>199</td>\n",
       "      <td>111</td>\n",
       "      <td>163</td>\n",
       "      <td>1.8000000000000002e-10</td>\n",
       "      <td>60.5</td>\n",
       "      <td>nicF</td>\n",
       "      <td>SRR9641933</td>\n",
       "      <td>28440</td>\n",
       "    </tr>\n",
       "    <tr>\n",
       "      <th>7</th>\n",
       "      <td>7.0</td>\n",
       "      <td>SRR9641933.28440</td>\n",
       "      <td>tr|A0A165NIV5|A0A165NIV5_9RHOB</td>\n",
       "      <td>41.5</td>\n",
       "      <td>53</td>\n",
       "      <td>31</td>\n",
       "      <td>0</td>\n",
       "      <td>38</td>\n",
       "      <td>196</td>\n",
       "      <td>124</td>\n",
       "      <td>176</td>\n",
       "      <td>2.3e-05</td>\n",
       "      <td>43.5</td>\n",
       "      <td>nicF</td>\n",
       "      <td>SRR9641933</td>\n",
       "      <td>28440</td>\n",
       "    </tr>\n",
       "    <tr>\n",
       "      <th>8</th>\n",
       "      <td>8.0</td>\n",
       "      <td>SRR9641933.28440</td>\n",
       "      <td>tr|A0A165V9Q2|A0A165V9Q2_9RHOB</td>\n",
       "      <td>41.5</td>\n",
       "      <td>53</td>\n",
       "      <td>31</td>\n",
       "      <td>0</td>\n",
       "      <td>38</td>\n",
       "      <td>196</td>\n",
       "      <td>124</td>\n",
       "      <td>176</td>\n",
       "      <td>2.3e-05</td>\n",
       "      <td>43.5</td>\n",
       "      <td>nicF</td>\n",
       "      <td>SRR9641933</td>\n",
       "      <td>28440</td>\n",
       "    </tr>\n",
       "    <tr>\n",
       "      <th>...</th>\n",
       "      <td>...</td>\n",
       "      <td>...</td>\n",
       "      <td>...</td>\n",
       "      <td>...</td>\n",
       "      <td>...</td>\n",
       "      <td>...</td>\n",
       "      <td>...</td>\n",
       "      <td>...</td>\n",
       "      <td>...</td>\n",
       "      <td>...</td>\n",
       "      <td>...</td>\n",
       "      <td>...</td>\n",
       "      <td>...</td>\n",
       "      <td>...</td>\n",
       "      <td>...</td>\n",
       "      <td>...</td>\n",
       "    </tr>\n",
       "    <tr>\n",
       "      <th>542821</th>\n",
       "      <td>1474.0</td>\n",
       "      <td>SRR9641812.1131113</td>\n",
       "      <td>tr|A0A4R8QXP2|A0A4R8QXP2_9MYCO</td>\n",
       "      <td>42.6</td>\n",
       "      <td>47</td>\n",
       "      <td>27</td>\n",
       "      <td>0</td>\n",
       "      <td>144</td>\n",
       "      <td>4</td>\n",
       "      <td>336</td>\n",
       "      <td>382</td>\n",
       "      <td>4.8e-05</td>\n",
       "      <td>42.7</td>\n",
       "      <td>nicF</td>\n",
       "      <td>SRR9641812</td>\n",
       "      <td>1131113</td>\n",
       "    </tr>\n",
       "    <tr>\n",
       "      <th>542822</th>\n",
       "      <td>1475.0</td>\n",
       "      <td>SRR9641812.1131113</td>\n",
       "      <td>tr|A0A7W7UQY7|A0A7W7UQY7_9GAMM</td>\n",
       "      <td>43.5</td>\n",
       "      <td>46</td>\n",
       "      <td>25</td>\n",
       "      <td>1</td>\n",
       "      <td>138</td>\n",
       "      <td>4</td>\n",
       "      <td>353</td>\n",
       "      <td>398</td>\n",
       "      <td>6.3e-05</td>\n",
       "      <td>42.4</td>\n",
       "      <td>nicF</td>\n",
       "      <td>SRR9641812</td>\n",
       "      <td>1131113</td>\n",
       "    </tr>\n",
       "    <tr>\n",
       "      <th>542823</th>\n",
       "      <td>1476.0</td>\n",
       "      <td>SRR9641812.1131113</td>\n",
       "      <td>tr|A0A1S8P028|A0A1S8P028_CLOBE</td>\n",
       "      <td>29.0</td>\n",
       "      <td>69</td>\n",
       "      <td>40</td>\n",
       "      <td>2</td>\n",
       "      <td>180</td>\n",
       "      <td>1</td>\n",
       "      <td>326</td>\n",
       "      <td>394</td>\n",
       "      <td>6.3e-05</td>\n",
       "      <td>42.4</td>\n",
       "      <td>nicF</td>\n",
       "      <td>SRR9641812</td>\n",
       "      <td>1131113</td>\n",
       "    </tr>\n",
       "    <tr>\n",
       "      <th>542824</th>\n",
       "      <td>1477.0</td>\n",
       "      <td>SRR9641812.1136867</td>\n",
       "      <td>tr|A0A3S4UYK4|A0A3S4UYK4_9ACTO</td>\n",
       "      <td>86.1</td>\n",
       "      <td>36</td>\n",
       "      <td>5</td>\n",
       "      <td>0</td>\n",
       "      <td>108</td>\n",
       "      <td>1</td>\n",
       "      <td>188</td>\n",
       "      <td>223</td>\n",
       "      <td>1.3000000000000002e-10</td>\n",
       "      <td>60.1</td>\n",
       "      <td>nicF</td>\n",
       "      <td>SRR9641812</td>\n",
       "      <td>1136867</td>\n",
       "    </tr>\n",
       "    <tr>\n",
       "      <th>542825</th>\n",
       "      <td>1478.0</td>\n",
       "      <td>SRR9641812.1136867</td>\n",
       "      <td>tr|A0A2I1WY56|A0A2I1WY56_CORAY</td>\n",
       "      <td>87.9</td>\n",
       "      <td>33</td>\n",
       "      <td>4</td>\n",
       "      <td>0</td>\n",
       "      <td>108</td>\n",
       "      <td>10</td>\n",
       "      <td>170</td>\n",
       "      <td>202</td>\n",
       "      <td>2.1000000000000002e-10</td>\n",
       "      <td>59.3</td>\n",
       "      <td>nicF</td>\n",
       "      <td>SRR9641812</td>\n",
       "      <td>1136867</td>\n",
       "    </tr>\n",
       "  </tbody>\n",
       "</table>\n",
       "<p>14712 rows × 16 columns</p>\n",
       "</div>"
      ],
      "text/plain": [
       "        Unnamed: 0     Query accession                Target accession  \\\n",
       "1              1.0    SRR9641933.28440  tr|A0A3E2YTU4|A0A3E2YTU4_9ACTN   \n",
       "5              5.0    SRR9641933.28440  tr|A0A0F0L0P7|A0A0F0L0P7_9MICO   \n",
       "6              6.0    SRR9641933.28440  tr|A0A5P9IRS1|A0A5P9IRS1_9GAMM   \n",
       "7              7.0    SRR9641933.28440  tr|A0A165NIV5|A0A165NIV5_9RHOB   \n",
       "8              8.0    SRR9641933.28440  tr|A0A165V9Q2|A0A165V9Q2_9RHOB   \n",
       "...            ...                 ...                             ...   \n",
       "542821      1474.0  SRR9641812.1131113  tr|A0A4R8QXP2|A0A4R8QXP2_9MYCO   \n",
       "542822      1475.0  SRR9641812.1131113  tr|A0A7W7UQY7|A0A7W7UQY7_9GAMM   \n",
       "542823      1476.0  SRR9641812.1131113  tr|A0A1S8P028|A0A1S8P028_CLOBE   \n",
       "542824      1477.0  SRR9641812.1136867  tr|A0A3S4UYK4|A0A3S4UYK4_9ACTO   \n",
       "542825      1478.0  SRR9641812.1136867  tr|A0A2I1WY56|A0A2I1WY56_CORAY   \n",
       "\n",
       "       Sequence identity Length Mismatches Gap openings Query start Query end  \\\n",
       "1                   68.7     67         21            0           2       202   \n",
       "5                   50.0     64         32            0           8       199   \n",
       "6                   56.9     58         20            1          26       199   \n",
       "7                   41.5     53         31            0          38       196   \n",
       "8                   41.5     53         31            0          38       196   \n",
       "...                  ...    ...        ...          ...         ...       ...   \n",
       "542821              42.6     47         27            0         144         4   \n",
       "542822              43.5     46         25            1         138         4   \n",
       "542823              29.0     69         40            2         180         1   \n",
       "542824              86.1     36          5            0         108         1   \n",
       "542825              87.9     33          4            0         108        10   \n",
       "\n",
       "       Target start Target end                 E-value Bit score Gene name  \\\n",
       "1                96        162                 3.3e-20      92.8      nicF   \n",
       "5               118        181                 4.7e-11      62.4      nicF   \n",
       "6               111        163  1.8000000000000002e-10      60.5      nicF   \n",
       "7               124        176                 2.3e-05      43.5      nicF   \n",
       "8               124        176                 2.3e-05      43.5      nicF   \n",
       "...             ...        ...                     ...       ...       ...   \n",
       "542821          336        382                 4.8e-05      42.7      nicF   \n",
       "542822          353        398                 6.3e-05      42.4      nicF   \n",
       "542823          326        394                 6.3e-05      42.4      nicF   \n",
       "542824          188        223  1.3000000000000002e-10      60.1      nicF   \n",
       "542825          170        202  2.1000000000000002e-10      59.3      nicF   \n",
       "\n",
       "         Sample ID Read number  \n",
       "1       SRR9641933       28440  \n",
       "5       SRR9641933       28440  \n",
       "6       SRR9641933       28440  \n",
       "7       SRR9641933       28440  \n",
       "8       SRR9641933       28440  \n",
       "...            ...         ...  \n",
       "542821  SRR9641812     1131113  \n",
       "542822  SRR9641812     1131113  \n",
       "542823  SRR9641812     1131113  \n",
       "542824  SRR9641812     1136867  \n",
       "542825  SRR9641812     1136867  \n",
       "\n",
       "[14712 rows x 16 columns]"
      ]
     },
     "execution_count": 6,
     "metadata": {},
     "output_type": "execute_result"
    }
   ],
   "source": [
    "df"
   ]
  },
  {
   "cell_type": "markdown",
   "id": "703d2029",
   "metadata": {},
   "source": [
    "### Pick the best hit for each read"
   ]
  },
  {
   "cell_type": "code",
   "execution_count": 7,
   "id": "8091cea5",
   "metadata": {},
   "outputs": [],
   "source": [
    "df[\"E-value\"] = df[\"E-value\"].astype(float)"
   ]
  },
  {
   "cell_type": "code",
   "execution_count": 8,
   "id": "4a0ca9ad",
   "metadata": {},
   "outputs": [],
   "source": [
    "df = df.loc[df.groupby(\"Query accession\")[\"E-value\"].idxmin()]"
   ]
  },
  {
   "cell_type": "markdown",
   "id": "655ba76c",
   "metadata": {},
   "source": [
    "# Metadata"
   ]
  },
  {
   "cell_type": "code",
   "execution_count": 9,
   "id": "b5104b84",
   "metadata": {},
   "outputs": [],
   "source": [
    "metadata = pd.read_csv(\"../metadata/metadata.csv\")\n",
    "metadata = metadata.set_index(\"#SampleID\")"
   ]
  },
  {
   "cell_type": "code",
   "execution_count": 10,
   "id": "317d6694",
   "metadata": {},
   "outputs": [],
   "source": [
    "SRA1_metadata = pd.read_csv(\"../metadata/PRJNA508385_SRA_metadata.txt\")\n",
    "SRA2_metadata = pd.read_csv(\"../metadata/PRJNA548383_SRA_metadata.txt\")\n",
    "\n",
    "# This one was formatted really weirdly... csv in a tsv\n",
    "SRA3_metadata_weird = pd.read_csv(\"../metadata/PRJNA544061_SRA_metadata.txt\")\n",
    "SRA3_metadata_data = [str(x) for x in SRA3_metadata_weird.index]\n",
    "SRA3_metadata = [(x.split(\",\")[0][2:], x.split(\",\")[5]) for x in SRA3_metadata_data]\n",
    "SRA3_metadata = pd.DataFrame(SRA3_metadata, columns=[\"Run\",\"BioSample\"])\n",
    "SRA3_metadata = pd.concat([SRA3_metadata, SRA3_metadata_weird[\"Sample Name\"].reset_index()],\n",
    "                          axis=1)\n",
    "\n",
    "# CHANGE THIS WE NEED SAMPLE NAME NOT BIOSAMPLE\n",
    "\n",
    "SRA_metadata = pd.concat([SRA1_metadata[[\"Run\",\"Sample Name\"]],\n",
    "                          SRA2_metadata[[\"Run\",\"Sample Name\"]],\n",
    "                          SRA3_metadata[[\"Run\",\"Sample Name\"]]],\n",
    "                        axis=0)\n",
    "SRA_metadata = SRA_metadata.set_index(\"Sample Name\")"
   ]
  },
  {
   "cell_type": "code",
   "execution_count": 11,
   "id": "5d42bfff",
   "metadata": {},
   "outputs": [],
   "source": [
    "metadata[\"Run\"] = SRA_metadata[\"Run\"]"
   ]
  },
  {
   "cell_type": "markdown",
   "id": "9b14e7d2",
   "metadata": {},
   "source": [
    "# Get a count per sample"
   ]
  },
  {
   "cell_type": "code",
   "execution_count": 12,
   "id": "587ce8c8",
   "metadata": {},
   "outputs": [],
   "source": [
    "metadata = metadata.reset_index().set_index(\"Run\")"
   ]
  },
  {
   "cell_type": "code",
   "execution_count": 13,
   "id": "4d732576",
   "metadata": {},
   "outputs": [],
   "source": [
    "metadata[\"Hits\"] = df.groupby(\"Sample ID\").count()[\"Query accession\"]"
   ]
  },
  {
   "cell_type": "code",
   "execution_count": 14,
   "id": "bdc5314b",
   "metadata": {},
   "outputs": [
    {
     "data": {
      "text/html": [
       "<div>\n",
       "<style scoped>\n",
       "    .dataframe tbody tr th:only-of-type {\n",
       "        vertical-align: middle;\n",
       "    }\n",
       "\n",
       "    .dataframe tbody tr th {\n",
       "        vertical-align: top;\n",
       "    }\n",
       "\n",
       "    .dataframe thead th {\n",
       "        text-align: right;\n",
       "    }\n",
       "</style>\n",
       "<table border=\"1\" class=\"dataframe\">\n",
       "  <thead>\n",
       "    <tr style=\"text-align: right;\">\n",
       "      <th></th>\n",
       "      <th>#SampleID</th>\n",
       "      <th>GroupName</th>\n",
       "      <th>Description</th>\n",
       "      <th>Age</th>\n",
       "      <th>Gender</th>\n",
       "      <th>Ethnicity</th>\n",
       "      <th>Duration of use</th>\n",
       "      <th>Frequency of use</th>\n",
       "      <th>Type of e-cig device</th>\n",
       "      <th>Nicotine concentration ( per milliliter of e-juice)</th>\n",
       "      <th>Hits</th>\n",
       "    </tr>\n",
       "    <tr>\n",
       "      <th>Run</th>\n",
       "      <th></th>\n",
       "      <th></th>\n",
       "      <th></th>\n",
       "      <th></th>\n",
       "      <th></th>\n",
       "      <th></th>\n",
       "      <th></th>\n",
       "      <th></th>\n",
       "      <th></th>\n",
       "      <th></th>\n",
       "      <th></th>\n",
       "    </tr>\n",
       "  </thead>\n",
       "  <tbody>\n",
       "    <tr>\n",
       "      <th>SRR9641808</th>\n",
       "      <td>HNS126_S6</td>\n",
       "      <td>Never Smoker</td>\n",
       "      <td>HNS126_S6</td>\n",
       "      <td>28</td>\n",
       "      <td>Female</td>\n",
       "      <td>Caucasian</td>\n",
       "      <td>NaN</td>\n",
       "      <td>NaN</td>\n",
       "      <td>NaN</td>\n",
       "      <td>NaN</td>\n",
       "      <td>9.0</td>\n",
       "    </tr>\n",
       "    <tr>\n",
       "      <th>SRR9641805</th>\n",
       "      <td>HNS127_S7</td>\n",
       "      <td>Never Smoker</td>\n",
       "      <td>HNS127_S7</td>\n",
       "      <td>29</td>\n",
       "      <td>Male</td>\n",
       "      <td>Caucasian</td>\n",
       "      <td>NaN</td>\n",
       "      <td>NaN</td>\n",
       "      <td>NaN</td>\n",
       "      <td>NaN</td>\n",
       "      <td>3.0</td>\n",
       "    </tr>\n",
       "    <tr>\n",
       "      <th>SRR9641806</th>\n",
       "      <td>HNS128_S8</td>\n",
       "      <td>Never Smoker</td>\n",
       "      <td>HNS128_S8</td>\n",
       "      <td>23</td>\n",
       "      <td>Female</td>\n",
       "      <td>Caucasian</td>\n",
       "      <td>NaN</td>\n",
       "      <td>NaN</td>\n",
       "      <td>NaN</td>\n",
       "      <td>NaN</td>\n",
       "      <td>40.0</td>\n",
       "    </tr>\n",
       "    <tr>\n",
       "      <th>SRR9641807</th>\n",
       "      <td>HNS129_S9</td>\n",
       "      <td>Never Smoker</td>\n",
       "      <td>HNS129_S9</td>\n",
       "      <td>23</td>\n",
       "      <td>Female</td>\n",
       "      <td>Caucasian</td>\n",
       "      <td>NaN</td>\n",
       "      <td>NaN</td>\n",
       "      <td>NaN</td>\n",
       "      <td>NaN</td>\n",
       "      <td>15.0</td>\n",
       "    </tr>\n",
       "    <tr>\n",
       "      <th>SRR9641809</th>\n",
       "      <td>HNS130_S10</td>\n",
       "      <td>Never Smoker</td>\n",
       "      <td>HNS130_S10</td>\n",
       "      <td>25</td>\n",
       "      <td>Female</td>\n",
       "      <td>Caucasian</td>\n",
       "      <td>NaN</td>\n",
       "      <td>NaN</td>\n",
       "      <td>NaN</td>\n",
       "      <td>NaN</td>\n",
       "      <td>14.0</td>\n",
       "    </tr>\n",
       "    <tr>\n",
       "      <th>...</th>\n",
       "      <td>...</td>\n",
       "      <td>...</td>\n",
       "      <td>...</td>\n",
       "      <td>...</td>\n",
       "      <td>...</td>\n",
       "      <td>...</td>\n",
       "      <td>...</td>\n",
       "      <td>...</td>\n",
       "      <td>...</td>\n",
       "      <td>...</td>\n",
       "      <td>...</td>\n",
       "    </tr>\n",
       "    <tr>\n",
       "      <th>SRR9668722</th>\n",
       "      <td>D355_S41</td>\n",
       "      <td>ENDS Dual Smoker</td>\n",
       "      <td>D355_S41</td>\n",
       "      <td>20</td>\n",
       "      <td>Male</td>\n",
       "      <td>Caucasian</td>\n",
       "      <td>8 months</td>\n",
       "      <td>everyday</td>\n",
       "      <td>e-cig that use cartridges and disposable e-cig...</td>\n",
       "      <td>13 - 16 mg</td>\n",
       "      <td>20.0</td>\n",
       "    </tr>\n",
       "    <tr>\n",
       "      <th>SRR9668689</th>\n",
       "      <td>D356_S42</td>\n",
       "      <td>ENDS Dual Smoker</td>\n",
       "      <td>D356_S42</td>\n",
       "      <td>21</td>\n",
       "      <td>Female</td>\n",
       "      <td>Caucasian</td>\n",
       "      <td>3 months</td>\n",
       "      <td>everyday</td>\n",
       "      <td>e-cig that use cartridges</td>\n",
       "      <td>1.5 mg</td>\n",
       "      <td>59.0</td>\n",
       "    </tr>\n",
       "    <tr>\n",
       "      <th>SRR9668719</th>\n",
       "      <td>D357_S43</td>\n",
       "      <td>ENDS Dual Smoker</td>\n",
       "      <td>D357_S43</td>\n",
       "      <td>42</td>\n",
       "      <td>Female</td>\n",
       "      <td>Caucasian</td>\n",
       "      <td>1.5 years</td>\n",
       "      <td>everyday</td>\n",
       "      <td>Disposable coils</td>\n",
       "      <td>3 - 6 mg</td>\n",
       "      <td>27.0</td>\n",
       "    </tr>\n",
       "    <tr>\n",
       "      <th>SRR9668679</th>\n",
       "      <td>D358_S44</td>\n",
       "      <td>ENDS Dual Smoker</td>\n",
       "      <td>D358_S44</td>\n",
       "      <td>21</td>\n",
       "      <td>Female</td>\n",
       "      <td>Caucasian</td>\n",
       "      <td>7 months</td>\n",
       "      <td>everyday</td>\n",
       "      <td>e-cig that use cartridges</td>\n",
       "      <td>24 mg or 18 mg</td>\n",
       "      <td>40.0</td>\n",
       "    </tr>\n",
       "    <tr>\n",
       "      <th>SRR9668691</th>\n",
       "      <td>D359_S45</td>\n",
       "      <td>ENDS Dual Smoker</td>\n",
       "      <td>D359_S45</td>\n",
       "      <td>19</td>\n",
       "      <td>Male</td>\n",
       "      <td>Caucasian</td>\n",
       "      <td>2.5 years</td>\n",
       "      <td>everyday</td>\n",
       "      <td>Currently using a tank</td>\n",
       "      <td>0 mg</td>\n",
       "      <td>36.0</td>\n",
       "    </tr>\n",
       "  </tbody>\n",
       "</table>\n",
       "<p>123 rows × 11 columns</p>\n",
       "</div>"
      ],
      "text/plain": [
       "             #SampleID         GroupName Description  Age  Gender  Ethnicity  \\\n",
       "Run                                                                            \n",
       "SRR9641808   HNS126_S6      Never Smoker   HNS126_S6   28  Female  Caucasian   \n",
       "SRR9641805   HNS127_S7      Never Smoker   HNS127_S7   29    Male  Caucasian   \n",
       "SRR9641806   HNS128_S8      Never Smoker   HNS128_S8   23  Female  Caucasian   \n",
       "SRR9641807   HNS129_S9      Never Smoker   HNS129_S9   23  Female  Caucasian   \n",
       "SRR9641809  HNS130_S10      Never Smoker  HNS130_S10   25  Female  Caucasian   \n",
       "...                ...               ...         ...  ...     ...        ...   \n",
       "SRR9668722    D355_S41  ENDS Dual Smoker    D355_S41   20    Male  Caucasian   \n",
       "SRR9668689    D356_S42  ENDS Dual Smoker    D356_S42   21  Female  Caucasian   \n",
       "SRR9668719    D357_S43  ENDS Dual Smoker    D357_S43   42  Female  Caucasian   \n",
       "SRR9668679    D358_S44  ENDS Dual Smoker    D358_S44   21  Female  Caucasian   \n",
       "SRR9668691    D359_S45  ENDS Dual Smoker    D359_S45   19    Male  Caucasian   \n",
       "\n",
       "           Duration of use Frequency of use  \\\n",
       "Run                                           \n",
       "SRR9641808             NaN              NaN   \n",
       "SRR9641805             NaN              NaN   \n",
       "SRR9641806             NaN              NaN   \n",
       "SRR9641807             NaN              NaN   \n",
       "SRR9641809             NaN              NaN   \n",
       "...                    ...              ...   \n",
       "SRR9668722        8 months         everyday   \n",
       "SRR9668689        3 months         everyday   \n",
       "SRR9668719       1.5 years         everyday   \n",
       "SRR9668679        7 months         everyday   \n",
       "SRR9668691       2.5 years         everyday   \n",
       "\n",
       "                                         Type of e-cig device  \\\n",
       "Run                                                             \n",
       "SRR9641808                                                NaN   \n",
       "SRR9641805                                                NaN   \n",
       "SRR9641806                                                NaN   \n",
       "SRR9641807                                                NaN   \n",
       "SRR9641809                                                NaN   \n",
       "...                                                       ...   \n",
       "SRR9668722  e-cig that use cartridges and disposable e-cig...   \n",
       "SRR9668689                          e-cig that use cartridges   \n",
       "SRR9668719                                   Disposable coils   \n",
       "SRR9668679                          e-cig that use cartridges   \n",
       "SRR9668691                             Currently using a tank   \n",
       "\n",
       "           Nicotine concentration ( per milliliter of e-juice)  Hits  \n",
       "Run                                                                   \n",
       "SRR9641808                                                NaN    9.0  \n",
       "SRR9641805                                                NaN    3.0  \n",
       "SRR9641806                                                NaN   40.0  \n",
       "SRR9641807                                                NaN   15.0  \n",
       "SRR9641809                                                NaN   14.0  \n",
       "...                                                       ...    ...  \n",
       "SRR9668722                                         13 - 16 mg   20.0  \n",
       "SRR9668689                                             1.5 mg   59.0  \n",
       "SRR9668719                                           3 - 6 mg   27.0  \n",
       "SRR9668679                                     24 mg or 18 mg   40.0  \n",
       "SRR9668691                                               0 mg   36.0  \n",
       "\n",
       "[123 rows x 11 columns]"
      ]
     },
     "execution_count": 14,
     "metadata": {},
     "output_type": "execute_result"
    }
   ],
   "source": [
    "metadata"
   ]
  },
  {
   "cell_type": "code",
   "execution_count": 15,
   "id": "182c6c96",
   "metadata": {},
   "outputs": [
    {
     "data": {
      "image/png": "[encoded data removed]",
      "text/plain": [
       "<Figure size 432x288 with 1 Axes>"
      ]
     },
     "metadata": {
      "needs_background": "light"
     },
     "output_type": "display_data"
    }
   ],
   "source": [
    "sns.boxplot(\"Hits\",\n",
    "            \"GroupName\",\n",
    "            data=metadata)\n",
    "plt.show()"
   ]
  },
  {
   "cell_type": "code",
   "execution_count": 16,
   "id": "d5260214",
   "metadata": {},
   "outputs": [
    {
     "data": {
      "text/plain": [
       "<matplotlib.axes._subplots.AxesSubplot at 0x7fdaebca5278>"
      ]
     },
     "execution_count": 16,
     "metadata": {},
     "output_type": "execute_result"
    },
    {
     "data": {
      "image/png": "[encoded data removed]",
      "text/plain": [
       "<Figure size 432x288 with 1 Axes>"
      ]
     },
     "metadata": {
      "needs_background": "light"
     },
     "output_type": "display_data"
    }
   ],
   "source": [
    "sns.violinplot(\"Hits\",\n",
    "            \"GroupName\",\n",
    "            data=metadata)"
   ]
  },
  {
   "cell_type": "code",
   "execution_count": 17,
   "id": "692e0833",
   "metadata": {},
   "outputs": [],
   "source": [
    "never = metadata.loc[metadata[\"GroupName\"]==\"Never Smoker\", \"Hits\"]\n",
    "smoker = metadata.loc[metadata[\"GroupName\"]==\"Smoker\", \"Hits\"]\n",
    "ENDS = metadata.loc[metadata[\"GroupName\"]==\"ENDS Only\", \"Hits\"]\n",
    "ENDS_former = metadata.loc[metadata[\"GroupName\"]==\"ENDS Former Smoker\", \"Hits\"]\n",
    "ENDS_dual = metadata.loc[metadata[\"GroupName\"]==\"ENDS Dual Smoker\", \"Hits\"]"
   ]
  },
  {
   "cell_type": "code",
   "execution_count": 18,
   "id": "227cf3dd",
   "metadata": {},
   "outputs": [
    {
     "data": {
      "text/plain": [
       "KruskalResult(statistic=32.4017695253491, pvalue=1.5834192918218925e-06)"
      ]
     },
     "execution_count": 18,
     "metadata": {},
     "output_type": "execute_result"
    }
   ],
   "source": [
    "stats.kruskal(never, smoker, ENDS, ENDS_former, ENDS_dual,\n",
    "              nan_policy=\"omit\")"
   ]
  },
  {
   "cell_type": "code",
   "execution_count": 19,
   "id": "18668301",
   "metadata": {},
   "outputs": [
    {
     "data": {
      "text/html": [
       "<div>\n",
       "<style scoped>\n",
       "    .dataframe tbody tr th:only-of-type {\n",
       "        vertical-align: middle;\n",
       "    }\n",
       "\n",
       "    .dataframe tbody tr th {\n",
       "        vertical-align: top;\n",
       "    }\n",
       "\n",
       "    .dataframe thead th {\n",
       "        text-align: right;\n",
       "    }\n",
       "</style>\n",
       "<table border=\"1\" class=\"dataframe\">\n",
       "  <thead>\n",
       "    <tr style=\"text-align: right;\">\n",
       "      <th></th>\n",
       "      <th>ENDS Dual Smoker</th>\n",
       "      <th>ENDS Former Smoker</th>\n",
       "      <th>ENDS Only</th>\n",
       "      <th>Never Smoker</th>\n",
       "      <th>Smoker</th>\n",
       "    </tr>\n",
       "  </thead>\n",
       "  <tbody>\n",
       "    <tr>\n",
       "      <th>ENDS Dual Smoker</th>\n",
       "      <td>1.000000</td>\n",
       "      <td>0.998082</td>\n",
       "      <td>0.337751</td>\n",
       "      <td>0.000016</td>\n",
       "      <td>0.000333</td>\n",
       "    </tr>\n",
       "    <tr>\n",
       "      <th>ENDS Former Smoker</th>\n",
       "      <td>0.998082</td>\n",
       "      <td>1.000000</td>\n",
       "      <td>0.350659</td>\n",
       "      <td>0.000028</td>\n",
       "      <td>0.000483</td>\n",
       "    </tr>\n",
       "    <tr>\n",
       "      <th>ENDS Only</th>\n",
       "      <td>0.337751</td>\n",
       "      <td>0.350659</td>\n",
       "      <td>1.000000</td>\n",
       "      <td>0.002554</td>\n",
       "      <td>0.017812</td>\n",
       "    </tr>\n",
       "    <tr>\n",
       "      <th>Never Smoker</th>\n",
       "      <td>0.000016</td>\n",
       "      <td>0.000028</td>\n",
       "      <td>0.002554</td>\n",
       "      <td>1.000000</td>\n",
       "      <td>0.511374</td>\n",
       "    </tr>\n",
       "    <tr>\n",
       "      <th>Smoker</th>\n",
       "      <td>0.000333</td>\n",
       "      <td>0.000483</td>\n",
       "      <td>0.017812</td>\n",
       "      <td>0.511374</td>\n",
       "      <td>1.000000</td>\n",
       "    </tr>\n",
       "  </tbody>\n",
       "</table>\n",
       "</div>"
      ],
      "text/plain": [
       "                    ENDS Dual Smoker  ENDS Former Smoker  ENDS Only  \\\n",
       "ENDS Dual Smoker            1.000000            0.998082   0.337751   \n",
       "ENDS Former Smoker          0.998082            1.000000   0.350659   \n",
       "ENDS Only                   0.337751            0.350659   1.000000   \n",
       "Never Smoker                0.000016            0.000028   0.002554   \n",
       "Smoker                      0.000333            0.000483   0.017812   \n",
       "\n",
       "                    Never Smoker    Smoker  \n",
       "ENDS Dual Smoker        0.000016  0.000333  \n",
       "ENDS Former Smoker      0.000028  0.000483  \n",
       "ENDS Only               0.002554  0.017812  \n",
       "Never Smoker            1.000000  0.511374  \n",
       "Smoker                  0.511374  1.000000  "
      ]
     },
     "execution_count": 19,
     "metadata": {},
     "output_type": "execute_result"
    }
   ],
   "source": [
    "sp.posthoc_dunn(a=metadata, val_col=\"Hits\", group_col=\"GroupName\", \n",
    "                #p_adjust = 'holm'\n",
    "               )"
   ]
  },
  {
   "cell_type": "markdown",
   "id": "52f2edff",
   "metadata": {},
   "source": [
    "## Normalize for total reads\n",
    "Have to do some cleaning bc I formatted poorly - will address later"
   ]
  },
  {
   "cell_type": "code",
   "execution_count": 20,
   "id": "a5a297a1",
   "metadata": {},
   "outputs": [],
   "source": [
    "with open(\"num_reads.txt\") as f:\n",
    "    contents = f.readlines()\n",
    "contents = [content.strip().split(\"\\\\t\") for content in contents]"
   ]
  },
  {
   "cell_type": "code",
   "execution_count": 21,
   "id": "71441601",
   "metadata": {},
   "outputs": [],
   "source": [
    "num_reads_df = pd.DataFrame(contents, columns=[\"filepath\", \"num reads\"])\n",
    "num_reads_df = num_reads_df.replace(\"\", np.NaN)\n",
    "num_reads_df = num_reads_df[num_reads_df[\"num reads\"].isna()==False]"
   ]
  },
  {
   "cell_type": "code",
   "execution_count": 22,
   "id": "b9862c5b",
   "metadata": {},
   "outputs": [],
   "source": [
    "num_reads_df[\"Sample\"] = num_reads_df[\"filepath\"].apply(lambda x: x.split(\"/\")[-1].strip())\n",
    "num_reads_df = num_reads_df.set_index(\"Sample\")"
   ]
  },
  {
   "cell_type": "code",
   "execution_count": 23,
   "id": "9ed3390c",
   "metadata": {},
   "outputs": [],
   "source": [
    "metadata[\"Num reads\"] = num_reads_df[\"num reads\"].astype(int)"
   ]
  },
  {
   "cell_type": "code",
   "execution_count": 24,
   "id": "80af2a0b",
   "metadata": {},
   "outputs": [],
   "source": [
    "metadata[\"Hits per read\"] = metadata[\"Hits\"]/metadata[\"Num reads\"]"
   ]
  },
  {
   "cell_type": "code",
   "execution_count": 25,
   "id": "e692aa00",
   "metadata": {},
   "outputs": [
    {
     "data": {
      "image/png": "[encoded data removed]",
      "text/plain": [
       "<Figure size 432x288 with 1 Axes>"
      ]
     },
     "metadata": {
      "needs_background": "light"
     },
     "output_type": "display_data"
    }
   ],
   "source": [
    "sns.boxplot(\"Hits per read\",\n",
    "            \"GroupName\",\n",
    "            data=metadata)\n",
    "plt.show()"
   ]
  },
  {
   "cell_type": "code",
   "execution_count": 26,
   "id": "ae5e9361",
   "metadata": {},
   "outputs": [
    {
     "data": {
      "image/png": "[encoded data removed]",
      "text/plain": [
       "<Figure size 432x288 with 1 Axes>"
      ]
     },
     "metadata": {
      "needs_background": "light"
     },
     "output_type": "display_data"
    }
   ],
   "source": [
    "sns.violinplot(\"Hits per read\",\n",
    "            \"GroupName\",\n",
    "            data=metadata)\n",
    "plt.show()"
   ]
  },
  {
   "cell_type": "code",
   "execution_count": 27,
   "id": "536a31ea",
   "metadata": {},
   "outputs": [],
   "source": [
    "never = metadata.loc[metadata[\"GroupName\"]==\"Never Smoker\", \"Hits per read\"]\n",
    "smoker = metadata.loc[metadata[\"GroupName\"]==\"Smoker\", \"Hits per read\"]\n",
    "ENDS = metadata.loc[metadata[\"GroupName\"]==\"ENDS Only\", \"Hits per read\"]\n",
    "ENDS_former = metadata.loc[metadata[\"GroupName\"]==\"ENDS Former Smoker\", \"Hits per read\"]\n",
    "ENDS_dual = metadata.loc[metadata[\"GroupName\"]==\"ENDS Dual Smoker\", \"Hits per read\"]"
   ]
  },
  {
   "cell_type": "code",
   "execution_count": 28,
   "id": "32536d29",
   "metadata": {},
   "outputs": [
    {
     "data": {
      "image/png": "[encoded data removed]",
      "text/plain": [
       "<Figure size 432x288 with 1 Axes>"
      ]
     },
     "metadata": {
      "needs_background": "light"
     },
     "output_type": "display_data"
    },
    {
     "data": {
      "image/png": "[encoded data removed]",
      "text/plain": [
       "<Figure size 432x288 with 1 Axes>"
      ]
     },
     "metadata": {
      "needs_background": "light"
     },
     "output_type": "display_data"
    },
    {
     "data": {
      "image/png": "[encoded data removed]",
      "text/plain": [
       "<Figure size 432x288 with 1 Axes>"
      ]
     },
     "metadata": {
      "needs_background": "light"
     },
     "output_type": "display_data"
    },
    {
     "data": {
      "image/png": "[encoded data removed]",
      "text/plain": [
       "<Figure size 432x288 with 1 Axes>"
      ]
     },
     "metadata": {
      "needs_background": "light"
     },
     "output_type": "display_data"
    },
    {
     "data": {
      "image/png": "[encoded data removed]",
      "text/plain": [
       "<Figure size 432x288 with 1 Axes>"
      ]
     },
     "metadata": {
      "needs_background": "light"
     },
     "output_type": "display_data"
    }
   ],
   "source": [
    "groups = [never, smoker, ENDS, ENDS_former, ENDS_dual]\n",
    "\n",
    "for group in groups:\n",
    "    group.hist()\n",
    "    plt.show()"
   ]
  },
  {
   "cell_type": "code",
   "execution_count": 29,
   "id": "cfb269aa",
   "metadata": {},
   "outputs": [
    {
     "data": {
      "text/plain": [
       "KruskalResult(statistic=1.5950735896117862, pvalue=0.8096772929920908)"
      ]
     },
     "execution_count": 29,
     "metadata": {},
     "output_type": "execute_result"
    }
   ],
   "source": [
    "stats.kruskal(never, smoker, ENDS, ENDS_former, ENDS_dual,\n",
    "              nan_policy=\"omit\")"
   ]
  },
  {
   "cell_type": "code",
   "execution_count": 30,
   "id": "476f2805",
   "metadata": {},
   "outputs": [],
   "source": [
    "names = metadata[\"GroupName\"].unique()\n",
    "\n",
    "pairwise_results_p = np.zeros(shape=(len(groups), len(groups)), )\n",
    "pairwise_results_stat = np.zeros(shape=(len(groups), len(groups)))\n",
    "for i, first_group in enumerate(groups):\n",
    "    for j in range(i+1, len(groups)):\n",
    "        second_group = groups[j]\n",
    "        stat, p = stats.mannwhitneyu(first_group, second_group)\n",
    "        pairwise_results_p[i,j] = p\n",
    "        pairwise_results_stat[i,j] = stat"
   ]
  },
  {
   "cell_type": "code",
   "execution_count": 31,
   "id": "6b7eb127",
   "metadata": {},
   "outputs": [
    {
     "name": "stdout",
     "output_type": "stream",
     "text": [
      "pvals\n"
     ]
    },
    {
     "data": {
      "text/html": [
       "<div>\n",
       "<style scoped>\n",
       "    .dataframe tbody tr th:only-of-type {\n",
       "        vertical-align: middle;\n",
       "    }\n",
       "\n",
       "    .dataframe tbody tr th {\n",
       "        vertical-align: top;\n",
       "    }\n",
       "\n",
       "    .dataframe thead th {\n",
       "        text-align: right;\n",
       "    }\n",
       "</style>\n",
       "<table border=\"1\" class=\"dataframe\">\n",
       "  <thead>\n",
       "    <tr style=\"text-align: right;\">\n",
       "      <th></th>\n",
       "      <th>Never Smoker</th>\n",
       "      <th>Smoker</th>\n",
       "      <th>ENDS Only</th>\n",
       "      <th>ENDS Former Smoker</th>\n",
       "      <th>ENDS Dual Smoker</th>\n",
       "    </tr>\n",
       "  </thead>\n",
       "  <tbody>\n",
       "    <tr>\n",
       "      <th>Never Smoker</th>\n",
       "      <td>0.0</td>\n",
       "      <td>0.161198</td>\n",
       "      <td>0.468140</td>\n",
       "      <td>0.469069</td>\n",
       "      <td>0.246366</td>\n",
       "    </tr>\n",
       "    <tr>\n",
       "      <th>Smoker</th>\n",
       "      <td>0.0</td>\n",
       "      <td>0.000000</td>\n",
       "      <td>0.138966</td>\n",
       "      <td>0.107158</td>\n",
       "      <td>0.246366</td>\n",
       "    </tr>\n",
       "    <tr>\n",
       "      <th>ENDS Only</th>\n",
       "      <td>0.0</td>\n",
       "      <td>0.000000</td>\n",
       "      <td>0.000000</td>\n",
       "      <td>0.405228</td>\n",
       "      <td>0.413100</td>\n",
       "    </tr>\n",
       "    <tr>\n",
       "      <th>ENDS Former Smoker</th>\n",
       "      <td>0.0</td>\n",
       "      <td>0.000000</td>\n",
       "      <td>0.000000</td>\n",
       "      <td>0.000000</td>\n",
       "      <td>0.188899</td>\n",
       "    </tr>\n",
       "    <tr>\n",
       "      <th>ENDS Dual Smoker</th>\n",
       "      <td>0.0</td>\n",
       "      <td>0.000000</td>\n",
       "      <td>0.000000</td>\n",
       "      <td>0.000000</td>\n",
       "      <td>0.000000</td>\n",
       "    </tr>\n",
       "  </tbody>\n",
       "</table>\n",
       "</div>"
      ],
      "text/plain": [
       "                    Never Smoker    Smoker  ENDS Only  ENDS Former Smoker  \\\n",
       "Never Smoker                 0.0  0.161198   0.468140            0.469069   \n",
       "Smoker                       0.0  0.000000   0.138966            0.107158   \n",
       "ENDS Only                    0.0  0.000000   0.000000            0.405228   \n",
       "ENDS Former Smoker           0.0  0.000000   0.000000            0.000000   \n",
       "ENDS Dual Smoker             0.0  0.000000   0.000000            0.000000   \n",
       "\n",
       "                    ENDS Dual Smoker  \n",
       "Never Smoker                0.246366  \n",
       "Smoker                      0.246366  \n",
       "ENDS Only                   0.413100  \n",
       "ENDS Former Smoker          0.188899  \n",
       "ENDS Dual Smoker            0.000000  "
      ]
     },
     "execution_count": 31,
     "metadata": {},
     "output_type": "execute_result"
    }
   ],
   "source": [
    "print(\"pvals\")\n",
    "pd.DataFrame(pairwise_results_p, index=names, columns=names)"
   ]
  },
  {
   "cell_type": "code",
   "execution_count": 32,
   "id": "2dacf746",
   "metadata": {},
   "outputs": [
    {
     "name": "stdout",
     "output_type": "stream",
     "text": [
      "test statistic\n"
     ]
    },
    {
     "data": {
      "text/html": [
       "<div>\n",
       "<style scoped>\n",
       "    .dataframe tbody tr th:only-of-type {\n",
       "        vertical-align: middle;\n",
       "    }\n",
       "\n",
       "    .dataframe tbody tr th {\n",
       "        vertical-align: top;\n",
       "    }\n",
       "\n",
       "    .dataframe thead th {\n",
       "        text-align: right;\n",
       "    }\n",
       "</style>\n",
       "<table border=\"1\" class=\"dataframe\">\n",
       "  <thead>\n",
       "    <tr style=\"text-align: right;\">\n",
       "      <th></th>\n",
       "      <th>Never Smoker</th>\n",
       "      <th>Smoker</th>\n",
       "      <th>ENDS Only</th>\n",
       "      <th>ENDS Former Smoker</th>\n",
       "      <th>ENDS Dual Smoker</th>\n",
       "    </tr>\n",
       "  </thead>\n",
       "  <tbody>\n",
       "    <tr>\n",
       "      <th>Never Smoker</th>\n",
       "      <td>0.0</td>\n",
       "      <td>261.0</td>\n",
       "      <td>246.0</td>\n",
       "      <td>308.0</td>\n",
       "      <td>311.0</td>\n",
       "    </tr>\n",
       "    <tr>\n",
       "      <th>Smoker</th>\n",
       "      <td>0.0</td>\n",
       "      <td>0.0</td>\n",
       "      <td>202.0</td>\n",
       "      <td>248.0</td>\n",
       "      <td>311.0</td>\n",
       "    </tr>\n",
       "    <tr>\n",
       "      <th>ENDS Only</th>\n",
       "      <td>0.0</td>\n",
       "      <td>0.0</td>\n",
       "      <td>0.0</td>\n",
       "      <td>239.0</td>\n",
       "      <td>269.0</td>\n",
       "    </tr>\n",
       "    <tr>\n",
       "      <th>ENDS Former Smoker</th>\n",
       "      <td>0.0</td>\n",
       "      <td>0.0</td>\n",
       "      <td>0.0</td>\n",
       "      <td>0.0</td>\n",
       "      <td>300.0</td>\n",
       "    </tr>\n",
       "    <tr>\n",
       "      <th>ENDS Dual Smoker</th>\n",
       "      <td>0.0</td>\n",
       "      <td>0.0</td>\n",
       "      <td>0.0</td>\n",
       "      <td>0.0</td>\n",
       "      <td>0.0</td>\n",
       "    </tr>\n",
       "  </tbody>\n",
       "</table>\n",
       "</div>"
      ],
      "text/plain": [
       "                    Never Smoker  Smoker  ENDS Only  ENDS Former Smoker  \\\n",
       "Never Smoker                 0.0   261.0      246.0               308.0   \n",
       "Smoker                       0.0     0.0      202.0               248.0   \n",
       "ENDS Only                    0.0     0.0        0.0               239.0   \n",
       "ENDS Former Smoker           0.0     0.0        0.0                 0.0   \n",
       "ENDS Dual Smoker             0.0     0.0        0.0                 0.0   \n",
       "\n",
       "                    ENDS Dual Smoker  \n",
       "Never Smoker                   311.0  \n",
       "Smoker                         311.0  \n",
       "ENDS Only                      269.0  \n",
       "ENDS Former Smoker             300.0  \n",
       "ENDS Dual Smoker                 0.0  "
      ]
     },
     "execution_count": 32,
     "metadata": {},
     "output_type": "execute_result"
    }
   ],
   "source": [
    "print(\"test statistic\")\n",
    "pd.DataFrame(pairwise_results_stat, index=names, columns=names)"
   ]
  },
  {
   "cell_type": "code",
   "execution_count": 33,
   "id": "f7ad6267",
   "metadata": {},
   "outputs": [
    {
     "data": {
      "text/html": [
       "<div>\n",
       "<style scoped>\n",
       "    .dataframe tbody tr th:only-of-type {\n",
       "        vertical-align: middle;\n",
       "    }\n",
       "\n",
       "    .dataframe tbody tr th {\n",
       "        vertical-align: top;\n",
       "    }\n",
       "\n",
       "    .dataframe thead th {\n",
       "        text-align: right;\n",
       "    }\n",
       "</style>\n",
       "<table border=\"1\" class=\"dataframe\">\n",
       "  <thead>\n",
       "    <tr style=\"text-align: right;\">\n",
       "      <th></th>\n",
       "      <th>ENDS Dual Smoker</th>\n",
       "      <th>ENDS Former Smoker</th>\n",
       "      <th>ENDS Only</th>\n",
       "      <th>Never Smoker</th>\n",
       "      <th>Smoker</th>\n",
       "    </tr>\n",
       "  </thead>\n",
       "  <tbody>\n",
       "    <tr>\n",
       "      <th>ENDS Dual Smoker</th>\n",
       "      <td>1.000000</td>\n",
       "      <td>0.474323</td>\n",
       "      <td>0.647079</td>\n",
       "      <td>0.553090</td>\n",
       "      <td>0.706226</td>\n",
       "    </tr>\n",
       "    <tr>\n",
       "      <th>ENDS Former Smoker</th>\n",
       "      <td>0.474323</td>\n",
       "      <td>1.000000</td>\n",
       "      <td>0.834107</td>\n",
       "      <td>0.905272</td>\n",
       "      <td>0.291059</td>\n",
       "    </tr>\n",
       "    <tr>\n",
       "      <th>ENDS Only</th>\n",
       "      <td>0.647079</td>\n",
       "      <td>0.834107</td>\n",
       "      <td>1.000000</td>\n",
       "      <td>0.922537</td>\n",
       "      <td>0.430097</td>\n",
       "    </tr>\n",
       "    <tr>\n",
       "      <th>Never Smoker</th>\n",
       "      <td>0.553090</td>\n",
       "      <td>0.905272</td>\n",
       "      <td>0.922537</td>\n",
       "      <td>1.000000</td>\n",
       "      <td>0.348235</td>\n",
       "    </tr>\n",
       "    <tr>\n",
       "      <th>Smoker</th>\n",
       "      <td>0.706226</td>\n",
       "      <td>0.291059</td>\n",
       "      <td>0.430097</td>\n",
       "      <td>0.348235</td>\n",
       "      <td>1.000000</td>\n",
       "    </tr>\n",
       "  </tbody>\n",
       "</table>\n",
       "</div>"
      ],
      "text/plain": [
       "                    ENDS Dual Smoker  ENDS Former Smoker  ENDS Only  \\\n",
       "ENDS Dual Smoker            1.000000            0.474323   0.647079   \n",
       "ENDS Former Smoker          0.474323            1.000000   0.834107   \n",
       "ENDS Only                   0.647079            0.834107   1.000000   \n",
       "Never Smoker                0.553090            0.905272   0.922537   \n",
       "Smoker                      0.706226            0.291059   0.430097   \n",
       "\n",
       "                    Never Smoker    Smoker  \n",
       "ENDS Dual Smoker        0.553090  0.706226  \n",
       "ENDS Former Smoker      0.905272  0.291059  \n",
       "ENDS Only               0.922537  0.430097  \n",
       "Never Smoker            1.000000  0.348235  \n",
       "Smoker                  0.348235  1.000000  "
      ]
     },
     "execution_count": 33,
     "metadata": {},
     "output_type": "execute_result"
    }
   ],
   "source": [
    "sp.posthoc_dunn(a=metadata, val_col=\"Hits per read\", group_col=\"GroupName\", \n",
    "                #p_adjust = 'holm'\n",
    "               )"
   ]
  },
  {
   "cell_type": "code",
   "execution_count": 34,
   "id": "9d5c3063",
   "metadata": {},
   "outputs": [
    {
     "name": "stdout",
     "output_type": "stream",
     "text": [
      "225640.0\n"
     ]
    },
    {
     "data": {
      "text/plain": [
       "4262753.0"
      ]
     },
     "execution_count": 34,
     "metadata": {},
     "output_type": "execute_result"
    }
   ],
   "source": [
    "print(metadata[\"Num reads\"].min())\n",
    "metadata[\"Num reads\"].max()"
   ]
  },
  {
   "cell_type": "code",
   "execution_count": 35,
   "id": "d6069b99",
   "metadata": {},
   "outputs": [
    {
     "data": {
      "text/html": [
       "<div>\n",
       "<style scoped>\n",
       "    .dataframe tbody tr th:only-of-type {\n",
       "        vertical-align: middle;\n",
       "    }\n",
       "\n",
       "    .dataframe tbody tr th {\n",
       "        vertical-align: top;\n",
       "    }\n",
       "\n",
       "    .dataframe thead th {\n",
       "        text-align: right;\n",
       "    }\n",
       "</style>\n",
       "<table border=\"1\" class=\"dataframe\">\n",
       "  <thead>\n",
       "    <tr style=\"text-align: right;\">\n",
       "      <th></th>\n",
       "      <th>Unnamed: 0</th>\n",
       "      <th>Query accession</th>\n",
       "      <th>Target accession</th>\n",
       "      <th>Sequence identity</th>\n",
       "      <th>Length</th>\n",
       "      <th>Mismatches</th>\n",
       "      <th>Gap openings</th>\n",
       "      <th>Query start</th>\n",
       "      <th>Query end</th>\n",
       "      <th>Target start</th>\n",
       "      <th>Target end</th>\n",
       "      <th>E-value</th>\n",
       "      <th>Bit score</th>\n",
       "      <th>Gene name</th>\n",
       "      <th>Sample ID</th>\n",
       "      <th>Read number</th>\n",
       "    </tr>\n",
       "  </thead>\n",
       "  <tbody>\n",
       "    <tr>\n",
       "      <th>480513</th>\n",
       "      <td>117.0</td>\n",
       "      <td>SRR9641788.125477</td>\n",
       "      <td>tr|A0A4Y7R7Z6|A0A4Y7R7Z6_9FIRM</td>\n",
       "      <td>43.5</td>\n",
       "      <td>46</td>\n",
       "      <td>26</td>\n",
       "      <td>0</td>\n",
       "      <td>50</td>\n",
       "      <td>187</td>\n",
       "      <td>9</td>\n",
       "      <td>54</td>\n",
       "      <td>8.600000e-06</td>\n",
       "      <td>45.1</td>\n",
       "      <td>nicF</td>\n",
       "      <td>SRR9641788</td>\n",
       "      <td>125477</td>\n",
       "    </tr>\n",
       "    <tr>\n",
       "      <th>480523</th>\n",
       "      <td>127.0</td>\n",
       "      <td>SRR9641788.127907</td>\n",
       "      <td>tr|A0A132BQF3|A0A132BQF3_9RHOB</td>\n",
       "      <td>36.4</td>\n",
       "      <td>55</td>\n",
       "      <td>32</td>\n",
       "      <td>1</td>\n",
       "      <td>249</td>\n",
       "      <td>94</td>\n",
       "      <td>4</td>\n",
       "      <td>58</td>\n",
       "      <td>1.200000e-04</td>\n",
       "      <td>41.6</td>\n",
       "      <td>nicF</td>\n",
       "      <td>SRR9641788</td>\n",
       "      <td>127907</td>\n",
       "    </tr>\n",
       "    <tr>\n",
       "      <th>480674</th>\n",
       "      <td>278.0</td>\n",
       "      <td>SRR9641788.217120</td>\n",
       "      <td>tr|A0A7W5NI72|A0A7W5NI72_9BURK</td>\n",
       "      <td>31.8</td>\n",
       "      <td>85</td>\n",
       "      <td>58</td>\n",
       "      <td>0</td>\n",
       "      <td>257</td>\n",
       "      <td>3</td>\n",
       "      <td>359</td>\n",
       "      <td>443</td>\n",
       "      <td>2.000000e-07</td>\n",
       "      <td>50.8</td>\n",
       "      <td>nicF</td>\n",
       "      <td>SRR9641788</td>\n",
       "      <td>217120</td>\n",
       "    </tr>\n",
       "    <tr>\n",
       "      <th>480684</th>\n",
       "      <td>288.0</td>\n",
       "      <td>SRR9641788.219088</td>\n",
       "      <td>tr|A0A7W7C1R5|A0A7W7C1R5_9ACTN</td>\n",
       "      <td>32.4</td>\n",
       "      <td>71</td>\n",
       "      <td>44</td>\n",
       "      <td>1</td>\n",
       "      <td>206</td>\n",
       "      <td>6</td>\n",
       "      <td>314</td>\n",
       "      <td>384</td>\n",
       "      <td>3.300000e-04</td>\n",
       "      <td>40.0</td>\n",
       "      <td>pao</td>\n",
       "      <td>SRR9641788</td>\n",
       "      <td>219088</td>\n",
       "    </tr>\n",
       "    <tr>\n",
       "      <th>480686</th>\n",
       "      <td>290.0</td>\n",
       "      <td>SRR9641788.219755</td>\n",
       "      <td>tr|A0A1X9MND7|A0A1X9MND7_9BACI</td>\n",
       "      <td>68.6</td>\n",
       "      <td>51</td>\n",
       "      <td>15</td>\n",
       "      <td>1</td>\n",
       "      <td>153</td>\n",
       "      <td>4</td>\n",
       "      <td>2</td>\n",
       "      <td>52</td>\n",
       "      <td>1.100000e-14</td>\n",
       "      <td>74.7</td>\n",
       "      <td>pao</td>\n",
       "      <td>SRR9641788</td>\n",
       "      <td>219755</td>\n",
       "    </tr>\n",
       "    <tr>\n",
       "      <th>...</th>\n",
       "      <td>...</td>\n",
       "      <td>...</td>\n",
       "      <td>...</td>\n",
       "      <td>...</td>\n",
       "      <td>...</td>\n",
       "      <td>...</td>\n",
       "      <td>...</td>\n",
       "      <td>...</td>\n",
       "      <td>...</td>\n",
       "      <td>...</td>\n",
       "      <td>...</td>\n",
       "      <td>...</td>\n",
       "      <td>...</td>\n",
       "      <td>...</td>\n",
       "      <td>...</td>\n",
       "      <td>...</td>\n",
       "    </tr>\n",
       "    <tr>\n",
       "      <th>474033</th>\n",
       "      <td>753.0</td>\n",
       "      <td>SRR9668750.718706</td>\n",
       "      <td>tr|A0A009SNI0|A0A009SNI0_ACIBA</td>\n",
       "      <td>56.6</td>\n",
       "      <td>53</td>\n",
       "      <td>23</td>\n",
       "      <td>0</td>\n",
       "      <td>235</td>\n",
       "      <td>77</td>\n",
       "      <td>433</td>\n",
       "      <td>485</td>\n",
       "      <td>1.400000e-14</td>\n",
       "      <td>74.3</td>\n",
       "      <td>pao</td>\n",
       "      <td>SRR9668750</td>\n",
       "      <td>718706</td>\n",
       "    </tr>\n",
       "    <tr>\n",
       "      <th>474121</th>\n",
       "      <td>841.0</td>\n",
       "      <td>SRR9668750.758064</td>\n",
       "      <td>tr|A0A1S9GZQ4|A0A1S9GZQ4_9RHIZ</td>\n",
       "      <td>62.2</td>\n",
       "      <td>45</td>\n",
       "      <td>17</td>\n",
       "      <td>0</td>\n",
       "      <td>137</td>\n",
       "      <td>3</td>\n",
       "      <td>421</td>\n",
       "      <td>465</td>\n",
       "      <td>4.500000e-13</td>\n",
       "      <td>68.6</td>\n",
       "      <td>nicD</td>\n",
       "      <td>SRR9668750</td>\n",
       "      <td>758064</td>\n",
       "    </tr>\n",
       "    <tr>\n",
       "      <th>474155</th>\n",
       "      <td>875.0</td>\n",
       "      <td>SRR9668750.763174</td>\n",
       "      <td>tr|A0A377ZZA7|A0A377ZZA7_KLEPN</td>\n",
       "      <td>47.0</td>\n",
       "      <td>66</td>\n",
       "      <td>35</td>\n",
       "      <td>0</td>\n",
       "      <td>2</td>\n",
       "      <td>199</td>\n",
       "      <td>218</td>\n",
       "      <td>283</td>\n",
       "      <td>1.100000e-13</td>\n",
       "      <td>71.2</td>\n",
       "      <td>nicF</td>\n",
       "      <td>SRR9668750</td>\n",
       "      <td>763174</td>\n",
       "    </tr>\n",
       "    <tr>\n",
       "      <th>474391</th>\n",
       "      <td>1111.0</td>\n",
       "      <td>SRR9668750.958555</td>\n",
       "      <td>tr|A0A6I7U7K9|A0A6I7U7K9_9BACI</td>\n",
       "      <td>27.7</td>\n",
       "      <td>83</td>\n",
       "      <td>60</td>\n",
       "      <td>0</td>\n",
       "      <td>4</td>\n",
       "      <td>252</td>\n",
       "      <td>48</td>\n",
       "      <td>130</td>\n",
       "      <td>8.400000e-05</td>\n",
       "      <td>42.0</td>\n",
       "      <td>kdhC</td>\n",
       "      <td>SRR9668750</td>\n",
       "      <td>958555</td>\n",
       "    </tr>\n",
       "    <tr>\n",
       "      <th>474395</th>\n",
       "      <td>1115.0</td>\n",
       "      <td>SRR9668750.966889</td>\n",
       "      <td>tr|A0A4P6ZEB4|A0A4P6ZEB4_9FLAO</td>\n",
       "      <td>73.1</td>\n",
       "      <td>67</td>\n",
       "      <td>18</td>\n",
       "      <td>0</td>\n",
       "      <td>2</td>\n",
       "      <td>202</td>\n",
       "      <td>130</td>\n",
       "      <td>196</td>\n",
       "      <td>1.800000e-26</td>\n",
       "      <td>113.6</td>\n",
       "      <td>kdhC</td>\n",
       "      <td>SRR9668750</td>\n",
       "      <td>966889</td>\n",
       "    </tr>\n",
       "  </tbody>\n",
       "</table>\n",
       "<p>4561 rows × 16 columns</p>\n",
       "</div>"
      ],
      "text/plain": [
       "        Unnamed: 0    Query accession                Target accession  \\\n",
       "480513       117.0  SRR9641788.125477  tr|A0A4Y7R7Z6|A0A4Y7R7Z6_9FIRM   \n",
       "480523       127.0  SRR9641788.127907  tr|A0A132BQF3|A0A132BQF3_9RHOB   \n",
       "480674       278.0  SRR9641788.217120  tr|A0A7W5NI72|A0A7W5NI72_9BURK   \n",
       "480684       288.0  SRR9641788.219088  tr|A0A7W7C1R5|A0A7W7C1R5_9ACTN   \n",
       "480686       290.0  SRR9641788.219755  tr|A0A1X9MND7|A0A1X9MND7_9BACI   \n",
       "...            ...                ...                             ...   \n",
       "474033       753.0  SRR9668750.718706  tr|A0A009SNI0|A0A009SNI0_ACIBA   \n",
       "474121       841.0  SRR9668750.758064  tr|A0A1S9GZQ4|A0A1S9GZQ4_9RHIZ   \n",
       "474155       875.0  SRR9668750.763174  tr|A0A377ZZA7|A0A377ZZA7_KLEPN   \n",
       "474391      1111.0  SRR9668750.958555  tr|A0A6I7U7K9|A0A6I7U7K9_9BACI   \n",
       "474395      1115.0  SRR9668750.966889  tr|A0A4P6ZEB4|A0A4P6ZEB4_9FLAO   \n",
       "\n",
       "       Sequence identity Length Mismatches Gap openings Query start Query end  \\\n",
       "480513              43.5     46         26            0          50       187   \n",
       "480523              36.4     55         32            1         249        94   \n",
       "480674              31.8     85         58            0         257         3   \n",
       "480684              32.4     71         44            1         206         6   \n",
       "480686              68.6     51         15            1         153         4   \n",
       "...                  ...    ...        ...          ...         ...       ...   \n",
       "474033              56.6     53         23            0         235        77   \n",
       "474121              62.2     45         17            0         137         3   \n",
       "474155              47.0     66         35            0           2       199   \n",
       "474391              27.7     83         60            0           4       252   \n",
       "474395              73.1     67         18            0           2       202   \n",
       "\n",
       "       Target start Target end       E-value Bit score Gene name   Sample ID  \\\n",
       "480513            9         54  8.600000e-06      45.1      nicF  SRR9641788   \n",
       "480523            4         58  1.200000e-04      41.6      nicF  SRR9641788   \n",
       "480674          359        443  2.000000e-07      50.8      nicF  SRR9641788   \n",
       "480684          314        384  3.300000e-04      40.0       pao  SRR9641788   \n",
       "480686            2         52  1.100000e-14      74.7       pao  SRR9641788   \n",
       "...             ...        ...           ...       ...       ...         ...   \n",
       "474033          433        485  1.400000e-14      74.3       pao  SRR9668750   \n",
       "474121          421        465  4.500000e-13      68.6      nicD  SRR9668750   \n",
       "474155          218        283  1.100000e-13      71.2      nicF  SRR9668750   \n",
       "474391           48        130  8.400000e-05      42.0      kdhC  SRR9668750   \n",
       "474395          130        196  1.800000e-26     113.6      kdhC  SRR9668750   \n",
       "\n",
       "       Read number  \n",
       "480513      125477  \n",
       "480523      127907  \n",
       "480674      217120  \n",
       "480684      219088  \n",
       "480686      219755  \n",
       "...            ...  \n",
       "474033      718706  \n",
       "474121      758064  \n",
       "474155      763174  \n",
       "474391      958555  \n",
       "474395      966889  \n",
       "\n",
       "[4561 rows x 16 columns]"
      ]
     },
     "execution_count": 35,
     "metadata": {},
     "output_type": "execute_result"
    }
   ],
   "source": [
    "df"
   ]
  },
  {
   "cell_type": "code",
   "execution_count": 36,
   "id": "cf4d2832",
   "metadata": {},
   "outputs": [
    {
     "data": {
      "text/plain": [
       "array(['nicF', 'pao', 'mao', 'kdhB', 'ndhC', 'ndhB', 'kdhC', 'nboR',\n",
       "       'sad', 'nicX', 'nicD', 'hspB', 'kdhA', 'maiA', 'nctB', 'ndhA'],\n",
       "      dtype=object)"
      ]
     },
     "execution_count": 36,
     "metadata": {},
     "output_type": "execute_result"
    }
   ],
   "source": [
    "df[\"Gene name\"].unique()"
   ]
  },
  {
   "cell_type": "markdown",
   "id": "96f8279c",
   "metadata": {},
   "source": [
    "# How many of each gene?"
   ]
  },
  {
   "cell_type": "code",
   "execution_count": 46,
   "id": "43fd6dfd",
   "metadata": {},
   "outputs": [
    {
     "data": {
      "text/plain": [
       "(4561, 16)"
      ]
     },
     "execution_count": 46,
     "metadata": {},
     "output_type": "execute_result"
    }
   ],
   "source": [
    "df.shape"
   ]
  },
  {
   "cell_type": "code",
   "execution_count": 47,
   "id": "c299b536",
   "metadata": {},
   "outputs": [
    {
     "data": {
      "text/plain": [
       "4561"
      ]
     },
     "execution_count": 47,
     "metadata": {},
     "output_type": "execute_result"
    }
   ],
   "source": [
    "len(df[\"Query accession\"].unique())"
   ]
  },
  {
   "cell_type": "code",
   "execution_count": 56,
   "id": "3c29b2a0",
   "metadata": {},
   "outputs": [],
   "source": [
    "by_gene = df.groupby(\"Gene name\").count()[\"Query accession\"]\n",
    "by_gene.name = \"Count\""
   ]
  },
  {
   "cell_type": "code",
   "execution_count": 57,
   "id": "2386baa8",
   "metadata": {},
   "outputs": [
    {
     "data": {
      "text/plain": [
       "(array([ 0,  1,  2,  3,  4,  5,  6,  7,  8,  9, 10, 11, 12, 13, 14, 15]),\n",
       " <a list of 16 Text xticklabel objects>)"
      ]
     },
     "execution_count": 57,
     "metadata": {},
     "output_type": "execute_result"
    },
    {
     "data": {
      "image/png": "[encoded data removed]",
      "text/plain": [
       "<Figure size 432x288 with 1 Axes>"
      ]
     },
     "metadata": {
      "needs_background": "light"
     },
     "output_type": "display_data"
    }
   ],
   "source": [
    "ax = sns.barplot(y=by_gene, \n",
    "                 x=by_gene.index,\n",
    "                 palette=[\"gray\"])\n",
    "plt.xticks(rotation=30)"
   ]
  },
  {
   "cell_type": "code",
   "execution_count": 61,
   "id": "f405723a",
   "metadata": {},
   "outputs": [],
   "source": [
    "by_gene_pathway =pd.Series([\"pyrrolidine\",\n",
    "                      \"pyridine\",\n",
    "                      \"pyridine\",\n",
    "                      \"pyridine\",\n",
    "                      \"pyrrolidine\",\n",
    "                      \"pyridine\",\n",
    "                      \"pyridine\",\n",
    "                      \"pyridine\",\n",
    "                      \"pyridine\",\n",
    "                      \"pyridine\",\n",
    "                      \"pyridine\",\n",
    "                      \"pyrrolidine\",\n",
    "                      \"pyrrolidine\",\n",
    "                      \"pyrrolidine\",\n",
    "                      \"pyrrolidine\",\n",
    "                      \"pyridine\"], index=by_gene.index)\n",
    "\n",
    "by_gene_df = pd.concat([by_gene, by_gene_pathway],\n",
    "                    axis=1)\n",
    "by_gene_df.columns = [\"Count\", \"Pathway\"]"
   ]
  },
  {
   "cell_type": "code",
   "execution_count": 69,
   "id": "862abc19",
   "metadata": {},
   "outputs": [],
   "source": [
    "by_gene_df = by_gene_df.sort_values(by=\"Pathway\")"
   ]
  },
  {
   "cell_type": "code",
   "execution_count": 70,
   "id": "0f95358a",
   "metadata": {},
   "outputs": [
    {
     "data": {
      "image/png": "[encoded data removed]",
      "text/plain": [
       "<Figure size 432x288 with 1 Axes>"
      ]
     },
     "metadata": {
      "needs_background": "light"
     },
     "output_type": "display_data"
    }
   ],
   "source": [
    "sns.barplot(x=by_gene_df.index,\n",
    "            y=by_gene_df[\"Count\"],\n",
    "            hue=by_gene_df[\"Pathway\"],\n",
    "            dodge=False)\n",
    "plt.xticks(rotation=30)\n",
    "plt.show()"
   ]
  },
  {
   "cell_type": "code",
   "execution_count": null,
   "id": "80c2d8c6",
   "metadata": {},
   "outputs": [],
   "source": []
  }
 ],
 "metadata": {
  "kernelspec": {
   "display_name": "Python 3",
   "language": "python",
   "name": "python3"
  },
  "language_info": {
   "codemirror_mode": {
    "name": "ipython",
    "version": 3
   },
   "file_extension": ".py",
   "mimetype": "text/x-python",
   "name": "python",
   "nbconvert_exporter": "python",
   "pygments_lexer": "ipython3",
   "version": "3.5.6"
  }
 },
 "nbformat": 4,
 "nbformat_minor": 5
}
