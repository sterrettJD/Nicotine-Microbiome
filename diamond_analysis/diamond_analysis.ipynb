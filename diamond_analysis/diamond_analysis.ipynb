{
 "cells": [
  {
   "cell_type": "code",
   "execution_count": 76,
   "id": "8a12c8c4",
   "metadata": {},
   "outputs": [],
   "source": [
    "import pandas as pd\n",
    "import numpy as np\n",
    "\n",
    "import matplotlib.pyplot as plt\n",
    "import seaborn as sns\n",
    "%matplotlib inline"
   ]
  },
  {
   "cell_type": "markdown",
   "id": "042ef600",
   "metadata": {},
   "source": [
    "# Process diamond output"
   ]
  },
  {
   "cell_type": "code",
   "execution_count": 2,
   "id": "5b89d5cb",
   "metadata": {},
   "outputs": [],
   "source": [
    "df = pd.read_csv(\"../gene_hits.tsv\", header=0, index_col=0, sep=\"\\t\")\n",
    "\n",
    "# drop the extra header cols\n",
    "df = df[df[\"Query accession\"]!=\"Query accession\"]\n",
    "\n",
    "# Create a sample id and read number columns from query accession \n",
    "df[\"Sample ID\"] = df[\"Query accession\"].apply(lambda x: x.split(\".\")[0])\n",
    "df[\"Read number\"] = df[\"Query accession\"].apply(lambda x: x.split(\".\")[1])\n"
   ]
  },
  {
   "cell_type": "markdown",
   "id": "e91eda45",
   "metadata": {},
   "source": [
    "## Remove where missing gene names"
   ]
  },
  {
   "cell_type": "code",
   "execution_count": 3,
   "id": "c344460d",
   "metadata": {},
   "outputs": [
    {
     "name": "stdout",
     "output_type": "stream",
     "text": [
      "42 percent of hits matched a gene name on uniprot\n"
     ]
    }
   ],
   "source": [
    "percent_with_names = sum(df[\"Gene name\"].isna()==False)/df.shape[0]\n",
    "\n",
    "print(round(percent_with_names*100), \"percent of hits matched a gene name on uniprot\")\n",
    "\n",
    "# Only keep where we have a gene name\n",
    "df = df[df[\"Gene name\"].isna()==False]"
   ]
  },
  {
   "cell_type": "markdown",
   "id": "9ef3a9b7",
   "metadata": {},
   "source": [
    "## Get metacyc gene names"
   ]
  },
  {
   "cell_type": "code",
   "execution_count": 4,
   "id": "459630a9",
   "metadata": {},
   "outputs": [],
   "source": [
    "pathway_1 = pd.read_csv(\"../database-building/metacyc-nic-deg-1.txt\", \n",
    "                        header=1, sep=\"\\t\")\n",
    "pathway_2 = pd.read_csv(\"../database-building/metacyc-nic-deg-2.txt\", \n",
    "                        header=1, sep=\"\\t\")\n",
    "pathway_3 = pd.read_csv(\"../database-building/metacyc-nic-deg-3.txt\", \n",
    "                        header=1, sep=\"\\t\")\n",
    "\n",
    "metacyc_gene_names = set(pathway_1[\"Gene name\"]) | set(pathway_2[\"Gene name\"]) | set(pathway_3[\"Gene name\"])"
   ]
  },
  {
   "cell_type": "markdown",
   "id": "128e429c",
   "metadata": {},
   "source": [
    "## Remove where gene names not in metacyc pathways"
   ]
  },
  {
   "cell_type": "code",
   "execution_count": 5,
   "id": "098380b5",
   "metadata": {},
   "outputs": [],
   "source": [
    "df = df[df[\"Gene name\"].apply(lambda x: x in metacyc_gene_names)]"
   ]
  },
  {
   "cell_type": "code",
   "execution_count": 6,
   "id": "5bc5c3fa",
   "metadata": {},
   "outputs": [],
   "source": [
    "df[\"E-value\"] = df[\"E-value\"].astype(float)"
   ]
  },
  {
   "cell_type": "code",
   "execution_count": 7,
   "id": "b2b7f03f",
   "metadata": {},
   "outputs": [],
   "source": [
    "df = df.loc[df.groupby(\"Read number\")[\"E-value\"].idxmin()]"
   ]
  },
  {
   "cell_type": "markdown",
   "id": "71d08c71",
   "metadata": {},
   "source": [
    "# Metadata"
   ]
  },
  {
   "cell_type": "code",
   "execution_count": 54,
   "id": "a476e219",
   "metadata": {},
   "outputs": [],
   "source": [
    "metadata = pd.read_csv(\"../metadata/metadata.csv\")\n",
    "metadata = metadata.set_index(\"#SampleID\")"
   ]
  },
  {
   "cell_type": "code",
   "execution_count": 61,
   "id": "671578b5",
   "metadata": {},
   "outputs": [],
   "source": [
    "SRA1_metadata = pd.read_csv(\"../metadata/PRJNA508385_SRA_metadata.txt\")\n",
    "SRA2_metadata = pd.read_csv(\"../metadata/PRJNA548383_SRA_metadata.txt\")\n",
    "\n",
    "# This one was formatted really weirdly... csv in a tsv\n",
    "SRA3_metadata_weird = pd.read_csv(\"../metadata/PRJNA544061_SRA_metadata.txt\")\n",
    "SRA3_metadata_data = [str(x) for x in SRA3_metadata_weird.index]\n",
    "SRA3_metadata = [(x.split(\",\")[0][2:], x.split(\",\")[5]) for x in SRA3_metadata_data]\n",
    "SRA3_metadata = pd.DataFrame(SRA3_metadata, columns=[\"Run\",\"BioSample\"])\n",
    "SRA3_metadata = pd.concat([SRA3_metadata, SRA3_metadata_weird[\"Sample Name\"].reset_index()],\n",
    "                          axis=1)\n",
    "\n",
    "# CHANGE THIS WE NEED SAMPLE NAME NOT BIOSAMPLE\n",
    "\n",
    "SRA_metadata = pd.concat([SRA1_metadata[[\"Run\",\"Sample Name\"]],\n",
    "                          SRA2_metadata[[\"Run\",\"Sample Name\"]],\n",
    "                          SRA3_metadata[[\"Run\",\"Sample Name\"]]],\n",
    "                        axis=0)\n",
    "SRA_metadata = SRA_metadata.set_index(\"Sample Name\")"
   ]
  },
  {
   "cell_type": "code",
   "execution_count": 64,
   "id": "037bc81a",
   "metadata": {},
   "outputs": [],
   "source": [
    "metadata[\"Run\"] = SRA_metadata[\"Run\"]"
   ]
  },
  {
   "cell_type": "markdown",
   "id": "0aad0178",
   "metadata": {},
   "source": [
    "# Get a count per sample"
   ]
  },
  {
   "cell_type": "code",
   "execution_count": 73,
   "id": "e584d36c",
   "metadata": {},
   "outputs": [],
   "source": [
    "metadata = metadata.reset_index().set_index(\"Run\")"
   ]
  },
  {
   "cell_type": "code",
   "execution_count": 74,
   "id": "31afc830",
   "metadata": {},
   "outputs": [],
   "source": [
    "metadata[\"Hits\"] = df.groupby(\"Sample ID\").count()[\"Query accession\"]"
   ]
  },
  {
   "cell_type": "code",
   "execution_count": 75,
   "id": "68dfbaac",
   "metadata": {},
   "outputs": [
    {
     "data": {
      "text/html": [
       "<div>\n",
       "<style scoped>\n",
       "    .dataframe tbody tr th:only-of-type {\n",
       "        vertical-align: middle;\n",
       "    }\n",
       "\n",
       "    .dataframe tbody tr th {\n",
       "        vertical-align: top;\n",
       "    }\n",
       "\n",
       "    .dataframe thead th {\n",
       "        text-align: right;\n",
       "    }\n",
       "</style>\n",
       "<table border=\"1\" class=\"dataframe\">\n",
       "  <thead>\n",
       "    <tr style=\"text-align: right;\">\n",
       "      <th></th>\n",
       "      <th>#SampleID</th>\n",
       "      <th>GroupName</th>\n",
       "      <th>Description</th>\n",
       "      <th>Age</th>\n",
       "      <th>Gender</th>\n",
       "      <th>Ethnicity</th>\n",
       "      <th>Duration of use</th>\n",
       "      <th>Frequency of use</th>\n",
       "      <th>Type of e-cig device</th>\n",
       "      <th>Nicotine concentration ( per milliliter of e-juice)</th>\n",
       "      <th>Hits</th>\n",
       "    </tr>\n",
       "    <tr>\n",
       "      <th>Run</th>\n",
       "      <th></th>\n",
       "      <th></th>\n",
       "      <th></th>\n",
       "      <th></th>\n",
       "      <th></th>\n",
       "      <th></th>\n",
       "      <th></th>\n",
       "      <th></th>\n",
       "      <th></th>\n",
       "      <th></th>\n",
       "      <th></th>\n",
       "    </tr>\n",
       "  </thead>\n",
       "  <tbody>\n",
       "    <tr>\n",
       "      <th>SRR9641808</th>\n",
       "      <td>HNS126_S6</td>\n",
       "      <td>Never Smoker</td>\n",
       "      <td>HNS126_S6</td>\n",
       "      <td>28</td>\n",
       "      <td>Female</td>\n",
       "      <td>Caucasian</td>\n",
       "      <td>NaN</td>\n",
       "      <td>NaN</td>\n",
       "      <td>NaN</td>\n",
       "      <td>NaN</td>\n",
       "      <td>84.0</td>\n",
       "    </tr>\n",
       "    <tr>\n",
       "      <th>SRR9641805</th>\n",
       "      <td>HNS127_S7</td>\n",
       "      <td>Never Smoker</td>\n",
       "      <td>HNS127_S7</td>\n",
       "      <td>29</td>\n",
       "      <td>Male</td>\n",
       "      <td>Caucasian</td>\n",
       "      <td>NaN</td>\n",
       "      <td>NaN</td>\n",
       "      <td>NaN</td>\n",
       "      <td>NaN</td>\n",
       "      <td>22.0</td>\n",
       "    </tr>\n",
       "    <tr>\n",
       "      <th>SRR9641806</th>\n",
       "      <td>HNS128_S8</td>\n",
       "      <td>Never Smoker</td>\n",
       "      <td>HNS128_S8</td>\n",
       "      <td>23</td>\n",
       "      <td>Female</td>\n",
       "      <td>Caucasian</td>\n",
       "      <td>NaN</td>\n",
       "      <td>NaN</td>\n",
       "      <td>NaN</td>\n",
       "      <td>NaN</td>\n",
       "      <td>224.0</td>\n",
       "    </tr>\n",
       "    <tr>\n",
       "      <th>SRR9641807</th>\n",
       "      <td>HNS129_S9</td>\n",
       "      <td>Never Smoker</td>\n",
       "      <td>HNS129_S9</td>\n",
       "      <td>23</td>\n",
       "      <td>Female</td>\n",
       "      <td>Caucasian</td>\n",
       "      <td>NaN</td>\n",
       "      <td>NaN</td>\n",
       "      <td>NaN</td>\n",
       "      <td>NaN</td>\n",
       "      <td>93.0</td>\n",
       "    </tr>\n",
       "    <tr>\n",
       "      <th>SRR9641809</th>\n",
       "      <td>HNS130_S10</td>\n",
       "      <td>Never Smoker</td>\n",
       "      <td>HNS130_S10</td>\n",
       "      <td>25</td>\n",
       "      <td>Female</td>\n",
       "      <td>Caucasian</td>\n",
       "      <td>NaN</td>\n",
       "      <td>NaN</td>\n",
       "      <td>NaN</td>\n",
       "      <td>NaN</td>\n",
       "      <td>113.0</td>\n",
       "    </tr>\n",
       "    <tr>\n",
       "      <th>...</th>\n",
       "      <td>...</td>\n",
       "      <td>...</td>\n",
       "      <td>...</td>\n",
       "      <td>...</td>\n",
       "      <td>...</td>\n",
       "      <td>...</td>\n",
       "      <td>...</td>\n",
       "      <td>...</td>\n",
       "      <td>...</td>\n",
       "      <td>...</td>\n",
       "      <td>...</td>\n",
       "    </tr>\n",
       "    <tr>\n",
       "      <th>SRR9668722</th>\n",
       "      <td>D355_S41</td>\n",
       "      <td>ENDS Dual Smoker</td>\n",
       "      <td>D355_S41</td>\n",
       "      <td>20</td>\n",
       "      <td>Male</td>\n",
       "      <td>Caucasian</td>\n",
       "      <td>8 months</td>\n",
       "      <td>everyday</td>\n",
       "      <td>e-cig that use cartridges and disposable e-cig...</td>\n",
       "      <td>13 - 16 mg</td>\n",
       "      <td>130.0</td>\n",
       "    </tr>\n",
       "    <tr>\n",
       "      <th>SRR9668689</th>\n",
       "      <td>D356_S42</td>\n",
       "      <td>ENDS Dual Smoker</td>\n",
       "      <td>D356_S42</td>\n",
       "      <td>21</td>\n",
       "      <td>Female</td>\n",
       "      <td>Caucasian</td>\n",
       "      <td>3 months</td>\n",
       "      <td>everyday</td>\n",
       "      <td>e-cig that use cartridges</td>\n",
       "      <td>1.5 mg</td>\n",
       "      <td>397.0</td>\n",
       "    </tr>\n",
       "    <tr>\n",
       "      <th>SRR9668719</th>\n",
       "      <td>D357_S43</td>\n",
       "      <td>ENDS Dual Smoker</td>\n",
       "      <td>D357_S43</td>\n",
       "      <td>42</td>\n",
       "      <td>Female</td>\n",
       "      <td>Caucasian</td>\n",
       "      <td>1.5 years</td>\n",
       "      <td>everyday</td>\n",
       "      <td>Disposable coils</td>\n",
       "      <td>3 - 6 mg</td>\n",
       "      <td>180.0</td>\n",
       "    </tr>\n",
       "    <tr>\n",
       "      <th>SRR9668679</th>\n",
       "      <td>D358_S44</td>\n",
       "      <td>ENDS Dual Smoker</td>\n",
       "      <td>D358_S44</td>\n",
       "      <td>21</td>\n",
       "      <td>Female</td>\n",
       "      <td>Caucasian</td>\n",
       "      <td>7 months</td>\n",
       "      <td>everyday</td>\n",
       "      <td>e-cig that use cartridges</td>\n",
       "      <td>24 mg or 18 mg</td>\n",
       "      <td>287.0</td>\n",
       "    </tr>\n",
       "    <tr>\n",
       "      <th>SRR9668691</th>\n",
       "      <td>D359_S45</td>\n",
       "      <td>ENDS Dual Smoker</td>\n",
       "      <td>D359_S45</td>\n",
       "      <td>19</td>\n",
       "      <td>Male</td>\n",
       "      <td>Caucasian</td>\n",
       "      <td>2.5 years</td>\n",
       "      <td>everyday</td>\n",
       "      <td>Currently using a tank</td>\n",
       "      <td>0 mg</td>\n",
       "      <td>285.0</td>\n",
       "    </tr>\n",
       "  </tbody>\n",
       "</table>\n",
       "<p>123 rows × 11 columns</p>\n",
       "</div>"
      ],
      "text/plain": [
       "             #SampleID         GroupName Description  Age  Gender  Ethnicity  \\\n",
       "Run                                                                            \n",
       "SRR9641808   HNS126_S6      Never Smoker   HNS126_S6   28  Female  Caucasian   \n",
       "SRR9641805   HNS127_S7      Never Smoker   HNS127_S7   29    Male  Caucasian   \n",
       "SRR9641806   HNS128_S8      Never Smoker   HNS128_S8   23  Female  Caucasian   \n",
       "SRR9641807   HNS129_S9      Never Smoker   HNS129_S9   23  Female  Caucasian   \n",
       "SRR9641809  HNS130_S10      Never Smoker  HNS130_S10   25  Female  Caucasian   \n",
       "...                ...               ...         ...  ...     ...        ...   \n",
       "SRR9668722    D355_S41  ENDS Dual Smoker    D355_S41   20    Male  Caucasian   \n",
       "SRR9668689    D356_S42  ENDS Dual Smoker    D356_S42   21  Female  Caucasian   \n",
       "SRR9668719    D357_S43  ENDS Dual Smoker    D357_S43   42  Female  Caucasian   \n",
       "SRR9668679    D358_S44  ENDS Dual Smoker    D358_S44   21  Female  Caucasian   \n",
       "SRR9668691    D359_S45  ENDS Dual Smoker    D359_S45   19    Male  Caucasian   \n",
       "\n",
       "           Duration of use Frequency of use  \\\n",
       "Run                                           \n",
       "SRR9641808             NaN              NaN   \n",
       "SRR9641805             NaN              NaN   \n",
       "SRR9641806             NaN              NaN   \n",
       "SRR9641807             NaN              NaN   \n",
       "SRR9641809             NaN              NaN   \n",
       "...                    ...              ...   \n",
       "SRR9668722        8 months         everyday   \n",
       "SRR9668689        3 months         everyday   \n",
       "SRR9668719       1.5 years         everyday   \n",
       "SRR9668679        7 months         everyday   \n",
       "SRR9668691       2.5 years         everyday   \n",
       "\n",
       "                                         Type of e-cig device  \\\n",
       "Run                                                             \n",
       "SRR9641808                                                NaN   \n",
       "SRR9641805                                                NaN   \n",
       "SRR9641806                                                NaN   \n",
       "SRR9641807                                                NaN   \n",
       "SRR9641809                                                NaN   \n",
       "...                                                       ...   \n",
       "SRR9668722  e-cig that use cartridges and disposable e-cig...   \n",
       "SRR9668689                          e-cig that use cartridges   \n",
       "SRR9668719                                   Disposable coils   \n",
       "SRR9668679                          e-cig that use cartridges   \n",
       "SRR9668691                             Currently using a tank   \n",
       "\n",
       "           Nicotine concentration ( per milliliter of e-juice)   Hits  \n",
       "Run                                                                    \n",
       "SRR9641808                                                NaN    84.0  \n",
       "SRR9641805                                                NaN    22.0  \n",
       "SRR9641806                                                NaN   224.0  \n",
       "SRR9641807                                                NaN    93.0  \n",
       "SRR9641809                                                NaN   113.0  \n",
       "...                                                       ...     ...  \n",
       "SRR9668722                                         13 - 16 mg   130.0  \n",
       "SRR9668689                                             1.5 mg   397.0  \n",
       "SRR9668719                                           3 - 6 mg   180.0  \n",
       "SRR9668679                                     24 mg or 18 mg   287.0  \n",
       "SRR9668691                                               0 mg   285.0  \n",
       "\n",
       "[123 rows x 11 columns]"
      ]
     },
     "execution_count": 75,
     "metadata": {},
     "output_type": "execute_result"
    }
   ],
   "source": [
    "metadata"
   ]
  },
  {
   "cell_type": "code",
   "execution_count": 78,
   "id": "54ed9b7e",
   "metadata": {},
   "outputs": [
    {
     "data": {
      "text/plain": [
       "<matplotlib.axes._subplots.AxesSubplot at 0x7f8dad1f1b70>"
      ]
     },
     "execution_count": 78,
     "metadata": {},
     "output_type": "execute_result"
    },
    {
     "data": {
      "image/png": "[encoded data removed]",
      "text/plain": [
       "<Figure size 432x288 with 1 Axes>"
      ]
     },
     "metadata": {
      "needs_background": "light"
     },
     "output_type": "display_data"
    }
   ],
   "source": [
    "sns.boxplot(\"Hits\",\n",
    "            \"GroupName\",\n",
    "            data=metadata)"
   ]
  },
  {
   "cell_type": "code",
   "execution_count": null,
   "id": "a2c2249f",
   "metadata": {},
   "outputs": [],
   "source": []
  }
 ],
 "metadata": {
  "kernelspec": {
   "display_name": "Python 3",
   "language": "python",
   "name": "python3"
  },
  "language_info": {
   "codemirror_mode": {
    "name": "ipython",
    "version": 3
   },
   "file_extension": ".py",
   "mimetype": "text/x-python",
   "name": "python",
   "nbconvert_exporter": "python",
   "pygments_lexer": "ipython3",
   "version": "3.5.6"
  }
 },
 "nbformat": 4,
 "nbformat_minor": 5
}
